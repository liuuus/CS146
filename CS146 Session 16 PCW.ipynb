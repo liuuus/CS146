{
 "cells": [
  {
   "cell_type": "code",
   "execution_count": 1,
   "metadata": {},
   "outputs": [],
   "source": [
    "import scipy.stats as sts\n",
    "import random\n",
    "import numpy as np"
   ]
  },
  {
   "cell_type": "code",
   "execution_count": 3,
   "metadata": {},
   "outputs": [
    {
     "name": "stdout",
     "output_type": "stream",
     "text": [
      "[0.67422423 0.8424532  0.91113023]\n"
     ]
    }
   ],
   "source": [
    "alpha = 1\n",
    "beta = 1\n",
    "# samples\n",
    "n = [[random.randint(1, 100) for i in range(4)] for j in range(3)]\n",
    "# field goal success rate\n",
    "p_i = sts.beta.rvs(alpha, beta, size=3)\n",
    "# number of field goals made\n",
    "k_ij = [[sts.binom.rvs(n[i][j],p_i[i]) for j in range(4)] for i in range(3)]\n",
    "\n",
    "print(p_i)"
   ]
  }
 ],
 "metadata": {
  "kernelspec": {
   "display_name": "Python 3",
   "language": "python",
   "name": "python3"
  },
  "language_info": {
   "codemirror_mode": {
    "name": "ipython",
    "version": 3
   },
   "file_extension": ".py",
   "mimetype": "text/x-python",
   "name": "python",
   "nbconvert_exporter": "python",
   "pygments_lexer": "ipython3",
   "version": "3.7.4"
  }
 },
 "nbformat": 4,
 "nbformat_minor": 2
}
