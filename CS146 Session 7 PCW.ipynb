{
 "cells": [
  {
   "cell_type": "code",
   "execution_count": null,
   "metadata": {},
   "outputs": [],
   "source": [
    "# code from previous class session\n",
    "\n",
    "# define hyperparameters and support of the distribution \n",
    "alpha = 1\n",
    "beta = 1\n",
    "distribution = stats.invgamma(a = alpha, b = beta)\n",
    "x = np.linspace(0, 1, 200)\n",
    "\n",
    "# visualize the prior\n",
    "plt.figure(figsize = [12,4])\n",
    "plt.plot(x, distribution.pdf(x), label = \"Prior\")\n",
    "plt.legend()\n",
    "plt.title(f\"Prior distribution with Alpha: {alpha}, Beta: {beta}\")\n",
    "plt.xlabel(\"Proprotion\")\n",
    "plt.ylabel(\"Probability\")\n",
    "plt.show()\n",
    "\n",
    "\n",
    "# posterior parameters\n",
    "x = 107\n",
    "n = 34 + 107\n",
    "alpha_post = alpha + x\n",
    "beta_post = beta + n - x\n",
    "\n",
    "# define posterior distribution\n",
    "post_distribution = stats.invgamma(a = alpha_post, b = beta_post)\n",
    "x = np.linspace(0, 1, 200)\n",
    "\n",
    "# visualize the posterior\n",
    "plt.figure(figsize = [12,4])\n",
    "plt.plot(x, post_distribution.pdf(x), label = \"Posterior\")\n",
    "plt.legend()\n",
    "plt.title(f\"Posterior distribution with Alpha: {alpha_post}, Beta: {beta_post}\")\n",
    "plt.xlabel(\"Proprotion\")\n",
    "plt.ylabel(\"Probability\")\n",
    "plt.xticks(np.arange(0, 1.1, 0.1))\n",
    "plt.show()"
   ]
  },
  {
   "cell_type": "code",
   "execution_count": null,
   "metadata": {},
   "outputs": [],
   "source": [
    "# I do not understand how to frame the PCW task as an optimization problem. \n",
    "# The readings were not sufficient for me to understand how to implement this optimization with constraints."
   ]
  }
 ],
 "metadata": {
  "kernelspec": {
   "display_name": "Python 3",
   "language": "python",
   "name": "python3"
  },
  "language_info": {
   "codemirror_mode": {
    "name": "ipython",
    "version": 3
   },
   "file_extension": ".py",
   "mimetype": "text/x-python",
   "name": "python",
   "nbconvert_exporter": "python",
   "pygments_lexer": "ipython3",
   "version": "3.7.4"
  }
 },
 "nbformat": 4,
 "nbformat_minor": 2
}
